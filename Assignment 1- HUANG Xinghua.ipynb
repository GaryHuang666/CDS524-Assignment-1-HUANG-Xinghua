{
 "cells": [
  {
   "cell_type": "code",
   "execution_count": 1,
   "id": "544a9819-c98b-484e-8215-895d48049117",
   "metadata": {},
   "outputs": [],
   "source": [
    "# CDS524 Assignment 1\n",
    "# Snake Game\n",
    "# Student Name: HUANG Xinghua\n",
    "# Student ID: 3160617"
   ]
  },
  {
   "cell_type": "code",
   "execution_count": 2,
   "id": "96ea274b-0f07-47b1-8adb-81fb94618e3f",
   "metadata": {},
   "outputs": [
    {
     "name": "stdout",
     "output_type": "stream",
     "text": [
      "Requirement already satisfied: pygame in c:\\users\\26087\\anaconda3\\lib\\site-packages (2.6.1)\n",
      "Requirement already satisfied: numpy in c:\\users\\26087\\anaconda3\\lib\\site-packages (1.26.4)\n",
      "Requirement already satisfied: matplotlib in c:\\users\\26087\\anaconda3\\lib\\site-packages (3.8.4)\n",
      "Requirement already satisfied: contourpy>=1.0.1 in c:\\users\\26087\\anaconda3\\lib\\site-packages (from matplotlib) (1.2.0)\n",
      "Requirement already satisfied: cycler>=0.10 in c:\\users\\26087\\anaconda3\\lib\\site-packages (from matplotlib) (0.11.0)\n",
      "Requirement already satisfied: fonttools>=4.22.0 in c:\\users\\26087\\anaconda3\\lib\\site-packages (from matplotlib) (4.51.0)\n",
      "Requirement already satisfied: kiwisolver>=1.3.1 in c:\\users\\26087\\anaconda3\\lib\\site-packages (from matplotlib) (1.4.4)\n",
      "Requirement already satisfied: packaging>=20.0 in c:\\users\\26087\\anaconda3\\lib\\site-packages (from matplotlib) (23.2)\n",
      "Requirement already satisfied: pillow>=8 in c:\\users\\26087\\anaconda3\\lib\\site-packages (from matplotlib) (10.3.0)\n",
      "Requirement already satisfied: pyparsing>=2.3.1 in c:\\users\\26087\\anaconda3\\lib\\site-packages (from matplotlib) (3.0.9)\n",
      "Requirement already satisfied: python-dateutil>=2.7 in c:\\users\\26087\\anaconda3\\lib\\site-packages (from matplotlib) (2.9.0.post0)\n",
      "Requirement already satisfied: six>=1.5 in c:\\users\\26087\\anaconda3\\lib\\site-packages (from python-dateutil>=2.7->matplotlib) (1.16.0)\n"
     ]
    }
   ],
   "source": [
    "!pip install pygame numpy matplotlib"
   ]
  },
  {
   "cell_type": "code",
   "execution_count": 3,
   "id": "1a10c474-03ec-4ed3-a08f-636e8621ff52",
   "metadata": {},
   "outputs": [
    {
     "name": "stdout",
     "output_type": "stream",
     "text": [
      "pygame 2.6.1 (SDL 2.28.4, Python 3.12.4)\n",
      "Hello from the pygame community. https://www.pygame.org/contribute.html\n"
     ]
    }
   ],
   "source": [
    "import pygame\n",
    "import numpy as np\n",
    "import random\n",
    "from collections import deque\n",
    "from tqdm import tqdm  # Progress bar for training"
   ]
  },
  {
   "cell_type": "code",
   "execution_count": 4,
   "id": "445bf492-db5c-4572-96a6-78d7ea4fc0e8",
   "metadata": {},
   "outputs": [],
   "source": [
    "# Define Actions\n",
    "action_space = [\"LEFT\", \"RIGHT\", \"STRAIGHT\"]"
   ]
  },
  {
   "cell_type": "code",
   "execution_count": 5,
   "id": "c974c8d1-0b43-41d3-89ea-c9c805412349",
   "metadata": {},
   "outputs": [
    {
     "data": {
      "text/plain": [
       "(5, 0)"
      ]
     },
     "execution_count": 5,
     "metadata": {},
     "output_type": "execute_result"
    }
   ],
   "source": [
    "# Initialize Pygame\n",
    "pygame.init()"
   ]
  },
  {
   "cell_type": "code",
   "execution_count": 6,
   "id": "d8dc25e1-bb1c-44d8-972f-f8cde22727be",
   "metadata": {},
   "outputs": [],
   "source": [
    "# Snake Game Class\n",
    "class SnakeGame:\n",
    "    def __init__(self, grid_size=10):\n",
    "        self.grid_size = grid_size\n",
    "        self.cell_size = 40  # Size of each grid cell\n",
    "        self.width = self.grid_size * self.cell_size\n",
    "        self.height = self.grid_size * self.cell_size\n",
    "        self.window = pygame.display.set_mode((self.width, self.height))\n",
    "        pygame.display.set_caption(\"Q-Learning Snake Game\")\n",
    "\n",
    "        self.font = pygame.font.Font(None, 36)\n",
    "        self.score = 0\n",
    "        self.reset()\n",
    "\n",
    "    def reset(self):\n",
    "        # Resets the game state at the start of each episode.\n",
    "        self.snake = deque([(self.grid_size // 2, self.grid_size // 2)])  # Start at center\n",
    "        self.food = self.place_food()\n",
    "        self.direction = (0, 1)  # Moving right initially\n",
    "        self.done = False\n",
    "        self.score = 0\n",
    "        return self.get_state()\n",
    "\n",
    "    def place_food(self):\n",
    "        # Places food at a random location not occupied by the snake.\n",
    "        while True:\n",
    "            food_x = random.randint(0, self.grid_size - 1)\n",
    "            food_y = random.randint(0, self.grid_size - 1)\n",
    "            if (food_x, food_y) not in self.snake:\n",
    "                return (food_x, food_y)\n",
    "\n",
    "    def get_state(self):\n",
    "        #Returns an optimized state representation.\n",
    "        head_x, head_y = self.snake[0]\n",
    "        food_x, food_y = self.food\n",
    "\n",
    "        # Relative food direction\n",
    "        food_left = 1 if food_x < head_x else 0\n",
    "        food_right = 1 if food_x > head_x else 0\n",
    "        food_up = 1 if food_y < head_y else 0\n",
    "        food_down = 1 if food_y > head_y else 0\n",
    "\n",
    "        # Danger detection (binary values)\n",
    "        danger_left = 1 if (head_x - 1, head_y) in self.snake or head_x - 1 < 0 else 0\n",
    "        danger_right = 1 if (head_x + 1, head_y) in self.snake or head_x + 1 >= self.grid_size else 0\n",
    "        danger_up = 1 if (head_x, head_y - 1) in self.snake or head_y - 1 < 0 else 0\n",
    "        danger_down = 1 if (head_x, head_y + 1) in self.snake or head_y + 1 >= self.grid_size else 0\n",
    "\n",
    "        return (food_left, food_right, food_up, food_down, danger_left, danger_right, danger_up, danger_down)\n",
    "\n",
    "    def step(self, action):\n",
    "        # Moves the snake based on the action and returns (new_state, reward, done).\n",
    "        if self.done:\n",
    "            return self.get_state(), 0, True\n",
    "\n",
    "        # Determine new direction\n",
    "        if action == \"LEFT\":\n",
    "            self.direction = (-self.direction[1], self.direction[0])  # Rotate left\n",
    "        elif action == \"RIGHT\":\n",
    "            self.direction = (self.direction[1], -self.direction[0])  # Rotate right\n",
    "\n",
    "        # Move the snake\n",
    "        new_head = (self.snake[0][0] + self.direction[0], self.snake[0][1] + self.direction[1])\n",
    "\n",
    "        # Check for collisions\n",
    "        if (new_head in self.snake) or (new_head[0] < 0 or new_head[0] >= self.grid_size or new_head[1] < 0 or new_head[1] >= self.grid_size):\n",
    "            self.done = True\n",
    "            return self.get_state(), -100, True  # Game over penalty\n",
    "\n",
    "        # Add new head position\n",
    "        self.snake.appendleft(new_head)\n",
    "\n",
    "        # Reward system\n",
    "        reward = -0.1  # Small penalty for each move\n",
    "        if new_head == self.food:\n",
    "            self.score += 10\n",
    "            reward = 10  # Strong reward for eating food\n",
    "            self.food = self.place_food()  # Generate new food\n",
    "        else:\n",
    "            self.snake.pop()  # Move forward\n",
    "\n",
    "        return self.get_state(), reward, self.done\n",
    "\n",
    "    def render(self, action=None, reward=0):\n",
    "        # Renders the game using Pygame and displays UI elements.\n",
    "        self.window.fill((0, 0, 0))  # Black background\n",
    "\n",
    "        # Draw snake\n",
    "        for segment in self.snake:\n",
    "            pygame.draw.rect(self.window, (0, 255, 0), (segment[1] * self.cell_size, segment[0] * self.cell_size, self.cell_size, self.cell_size))\n",
    "\n",
    "        # Draw food\n",
    "        pygame.draw.rect(self.window, (255, 0, 0), (self.food[1] * self.cell_size, self.food[0] * self.cell_size, self.cell_size, self.cell_size))\n",
    "\n",
    "        # Display score\n",
    "        score_text = self.font.render(f\"Score: {self.score}\", True, (255, 255, 255))\n",
    "        self.window.blit(score_text, (10, 10))\n",
    "\n",
    "        # Display action taken\n",
    "        if action:\n",
    "            action_text = self.font.render(f\"Action: {action}\", True, (255, 255, 255))\n",
    "            self.window.blit(action_text, (10, 40))\n",
    "\n",
    "        # Display reward\n",
    "        reward_text = self.font.render(f\"Reward: {reward}\", True, (255, 255, 255))\n",
    "        self.window.blit(reward_text, (10, 70))\n",
    "\n",
    "        pygame.display.flip()\n",
    "        pygame.time.delay(100)  # Slow down the game for visibility"
   ]
  },
  {
   "cell_type": "code",
   "execution_count": 7,
   "id": "4b46efa4-9529-41cf-96b0-b47cb03d70e3",
   "metadata": {},
   "outputs": [],
   "source": [
    "# Q-learning Training\n",
    "env = SnakeGame(grid_size=10)"
   ]
  },
  {
   "cell_type": "code",
   "execution_count": null,
   "id": "f5310c67-7f31-462b-bd90-61058133c28f",
   "metadata": {},
   "outputs": [
    {
     "name": "stderr",
     "output_type": "stream",
     "text": [
      "Training Progress:   6%|▌         | 303/5000 [12:44<4:07:08,  3.16s/it] "
     ]
    }
   ],
   "source": [
    "# Q-table & hyperparameters\n",
    "q_table = np.zeros((2, 2, 2, 2, 2, 2, 2, 2, len(action_space)))\n",
    "alpha = 0.5\n",
    "gamma = 0.9\n",
    "epsilon = 1.0\n",
    "epsilon_decay = 0.997\n",
    "epsilon_min = 0.05\n",
    "episodes = 5000\n",
    "max_steps_per_episode = 500\n",
    "\n",
    "# Training loop\n",
    "for episode in tqdm(range(episodes), desc=\"Training Progress\"):\n",
    "    state = env.reset()\n",
    "    done = False\n",
    "    steps = 0\n",
    "\n",
    "    while not done and steps < max_steps_per_episode:\n",
    "        pygame.event.pump()  # Prevents UI from freezing\n",
    "\n",
    "        state_idx = tuple(state)  # Convert state to tuple for Q-table indexing\n",
    "\n",
    "        # Epsilon-greedy action selection\n",
    "        if random.uniform(0, 1) < epsilon:\n",
    "            action_idx = random.choice(range(len(action_space)))\n",
    "        else:\n",
    "            action_idx = np.argmax(q_table[state_idx])\n",
    "\n",
    "        action = action_space[action_idx]\n",
    "        new_state, reward, done = env.step(action)\n",
    "        env.render(action, reward)  # Keep UI responsive\n",
    "\n",
    "        new_state_idx = tuple(new_state)\n",
    "        best_next_action = np.argmax(q_table[new_state_idx])\n",
    "\n",
    "        # Q-learning update\n",
    "        q_table[state_idx][action_idx] += alpha * (reward + gamma * q_table[new_state_idx][best_next_action] - q_table[state_idx][action_idx])\n",
    "\n",
    "        state = new_state\n",
    "        steps += 1\n",
    "\n",
    "    epsilon = max(epsilon * epsilon_decay, epsilon_min)  # Decay exploration\n",
    "\n",
    "print(\"Training finished!\")"
   ]
  },
  {
   "cell_type": "code",
   "execution_count": null,
   "id": "963d1f4f-5191-43d5-9252-69fb5f441693",
   "metadata": {},
   "outputs": [],
   "source": [
    "# Keep UI Open\n",
    "running = True\n",
    "while running:\n",
    "    pygame.event.pump()\n",
    "    for event in pygame.event.get():\n",
    "        if event.type == pygame.QUIT:\n",
    "            running = False\n",
    "\n",
    "pygame.quit()  # Properly exit Pygame"
   ]
  },
  {
   "cell_type": "code",
   "execution_count": null,
   "id": "fb20b9fd-74fd-464c-8645-30028f4cbd0c",
   "metadata": {},
   "outputs": [],
   "source": []
  }
 ],
 "metadata": {
  "kernelspec": {
   "display_name": "Python 3 (ipykernel)",
   "language": "python",
   "name": "python3"
  },
  "language_info": {
   "codemirror_mode": {
    "name": "ipython",
    "version": 3
   },
   "file_extension": ".py",
   "mimetype": "text/x-python",
   "name": "python",
   "nbconvert_exporter": "python",
   "pygments_lexer": "ipython3",
   "version": "3.12.4"
  }
 },
 "nbformat": 4,
 "nbformat_minor": 5
}
